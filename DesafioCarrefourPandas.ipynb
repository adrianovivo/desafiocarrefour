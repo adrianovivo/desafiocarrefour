{
  "nbformat": 4,
  "nbformat_minor": 0,
  "metadata": {
    "colab": {
      "name": "DesafioCarrefourPandas.ipynb",
      "provenance": [],
      "collapsed_sections": [],
      "authorship_tag": "ABX9TyPVpeAO/ly5yPOg6YURLqbb",
      "include_colab_link": true
    },
    "kernelspec": {
      "name": "python3",
      "display_name": "Python 3"
    },
    "language_info": {
      "name": "python"
    }
  },
  "cells": [
    {
      "cell_type": "markdown",
      "metadata": {
        "id": "view-in-github",
        "colab_type": "text"
      },
      "source": [
        "<a href=\"https://colab.research.google.com/github/adrianovivo/desafiocarrefour/blob/main/DesafioCarrefourPandas.ipynb\" target=\"_parent\"><img src=\"https://colab.research.google.com/assets/colab-badge.svg\" alt=\"Open In Colab\"/></a>"
      ]
    },
    {
      "cell_type": "markdown",
      "metadata": {
        "id": "UfxDXXloFAq8"
      },
      "source": [
        "**Projeto: Analisar as movimentações bancárias dos partidos políticos em 2020**\n",
        "\n",
        "*Fonte de Dados*: [TSE](https://www.tse.jus.br/eleicoes/estatisticas/repositorio-de-dados-eleitorais-1)\n",
        "\n",
        "*Arquivo*: [Extrato Bancário dos Partidos Políticos de 2020](https://cdn.tse.jus.br/estatistica/sead/odsele/prestacao_contas_anual_partidaria/extrato_bancario_partido_2021.zip)\n",
        "\n",
        "*Formato*: CSV \n",
        "\n",
        "*Tamanho*: 404Mb"
      ]
    },
    {
      "cell_type": "code",
      "metadata": {
        "id": "tXRXFsW8J-VO"
      },
      "source": [
        "#Importando as bibliotecas\n",
        "import pandas as pd\n",
        "import matplotlib.pyplot as plt\n",
        "plt.style.use(\"seaborn\")"
      ],
      "execution_count": 2,
      "outputs": []
    },
    {
      "cell_type": "code",
      "metadata": {
        "id": "duilcCFXGccg",
        "colab": {
          "base_uri": "https://localhost:8080/"
        },
        "outputId": "a74f0cc0-5031-43bc-873e-09d1ff854c9d"
      },
      "source": [
        "#download do arquivo Zip da URL (Previsão: 5min)\n",
        "!wget https://cdn.tse.jus.br/estatistica/sead/odsele/prestacao_contas_anual_partidaria/extrato_bancario_partido_2020.zip\n"
      ],
      "execution_count": 3,
      "outputs": [
        {
          "output_type": "stream",
          "name": "stdout",
          "text": [
            "--2021-09-15 14:50:54--  https://cdn.tse.jus.br/estatistica/sead/odsele/prestacao_contas_anual_partidaria/extrato_bancario_partido_2020.zip\n",
            "Resolving cdn.tse.jus.br (cdn.tse.jus.br)... 187.29.147.99, 187.4.152.99\n",
            "Connecting to cdn.tse.jus.br (cdn.tse.jus.br)|187.29.147.99|:443... connected.\n",
            "HTTP request sent, awaiting response... 200 OK\n",
            "Length: 71960313 (69M) [application/zip]\n",
            "Saving to: ‘extrato_bancario_partido_2020.zip’\n",
            "\n",
            "extrato_bancario_pa 100%[===================>]  68.63M   250KB/s    in 4m 44s  \n",
            "\n",
            "2021-09-15 14:55:40 (247 KB/s) - ‘extrato_bancario_partido_2020.zip’ saved [71960313/71960313]\n",
            "\n"
          ]
        }
      ]
    },
    {
      "cell_type": "code",
      "metadata": {
        "colab": {
          "base_uri": "https://localhost:8080/"
        },
        "id": "zhzp9PJ_IjXH",
        "outputId": "fa84df20-0575-491e-f158-6280b502c2e1"
      },
      "source": [
        "#Descompactar arquivo Zip\n",
        "!unzip extrato_bancario_partido_2020.zip"
      ],
      "execution_count": 4,
      "outputs": [
        {
          "output_type": "stream",
          "name": "stdout",
          "text": [
            "Archive:  extrato_bancario_partido_2020.zip\n",
            "  inflating: extrato_bancario_partido_2020.csv  \n",
            "  inflating: leiame.pdf              \n"
          ]
        }
      ]
    },
    {
      "cell_type": "code",
      "metadata": {
        "id": "yu5Se5foJED4"
      },
      "source": [
        "#Remover arquivo\n",
        "import os\n",
        "os.remove(\"extrato_bancario_partido_2020.zip\")"
      ],
      "execution_count": 5,
      "outputs": []
    },
    {
      "cell_type": "code",
      "metadata": {
        "id": "kT9ygxkoKPtd"
      },
      "source": [
        "#Carregar arquivo para o Dataframe\n",
        "df = pd.read_csv(\"extrato_bancario_partido_2020.csv\", sep=';', quotechar='\"', decimal=\",\", encoding = \"ISO-8859-1\", error_bad_lines=False)"
      ],
      "execution_count": 6,
      "outputs": []
    },
    {
      "cell_type": "code",
      "metadata": {
        "colab": {
          "base_uri": "https://localhost:8080/",
          "height": 394
        },
        "id": "yTRYhrsMKJcH",
        "outputId": "44b7dad8-6afb-41ae-e271-9096ba7f84a2"
      },
      "source": [
        "df.head()"
      ],
      "execution_count": 84,
      "outputs": [
        {
          "output_type": "execute_result",
          "data": {
            "text/html": [
              "<div>\n",
              "<style scoped>\n",
              "    .dataframe tbody tr th:only-of-type {\n",
              "        vertical-align: middle;\n",
              "    }\n",
              "\n",
              "    .dataframe tbody tr th {\n",
              "        vertical-align: top;\n",
              "    }\n",
              "\n",
              "    .dataframe thead th {\n",
              "        text-align: right;\n",
              "    }\n",
              "</style>\n",
              "<table border=\"1\" class=\"dataframe\">\n",
              "  <thead>\n",
              "    <tr style=\"text-align: right;\">\n",
              "      <th></th>\n",
              "      <th>DT_GERACAO</th>\n",
              "      <th>HH_GERACAO</th>\n",
              "      <th>AA_REFERENCIA</th>\n",
              "      <th>NR_CNPJ_PRESTADOR_CONTA</th>\n",
              "      <th>SG_PARTIDO</th>\n",
              "      <th>NM_ESFERA</th>\n",
              "      <th>TP_PESSOA</th>\n",
              "      <th>DS_LANCAMENTO</th>\n",
              "      <th>DT_LANCAMENTO</th>\n",
              "      <th>NR_DOCUMENTO</th>\n",
              "      <th>TP_LANCAMENTO</th>\n",
              "      <th>TP_OPERACAO</th>\n",
              "      <th>NM_OPERACAO</th>\n",
              "      <th>CD_BANCO</th>\n",
              "      <th>NM_BANCO</th>\n",
              "      <th>NR_AGENCIA</th>\n",
              "      <th>NR_CONTA</th>\n",
              "      <th>TP_CONTA</th>\n",
              "      <th>VR_LANCAMENTO</th>\n",
              "      <th>CD_BANCO_CONTRAPARTE</th>\n",
              "      <th>NM_BANCO_CONTRAPARTE</th>\n",
              "      <th>NR_AGENCIA_CONTRAPARTE</th>\n",
              "      <th>NR_CONTA_CONTRAPARTE</th>\n",
              "      <th>NR_CPF_CNPJ_CONTRAPARTE</th>\n",
              "      <th>NM_CONTRAPARTE</th>\n",
              "      <th>CD_FONTE_RECURSO</th>\n",
              "      <th>NM_FONTE_RECURSO</th>\n",
              "      <th>DS_DETALHE_FONTE_RECURSO</th>\n",
              "    </tr>\n",
              "  </thead>\n",
              "  <tbody>\n",
              "    <tr>\n",
              "      <th>0</th>\n",
              "      <td>05/08/2021</td>\n",
              "      <td>01:00:05</td>\n",
              "      <td>2020</td>\n",
              "      <td>7441918000115</td>\n",
              "      <td>MDB</td>\n",
              "      <td>Estadual</td>\n",
              "      <td>2</td>\n",
              "      <td>IMPOSTOS</td>\n",
              "      <td>27/11/2020</td>\n",
              "      <td>000000000112702</td>\n",
              "      <td>D</td>\n",
              "      <td>104</td>\n",
              "      <td>LANÇAMENTO AVISADO</td>\n",
              "      <td>1</td>\n",
              "      <td>BCO BRASIL</td>\n",
              "      <td>3219</td>\n",
              "      <td>267970</td>\n",
              "      <td>1</td>\n",
              "      <td>418.73</td>\n",
              "      <td>1</td>\n",
              "      <td>BCO BRASIL</td>\n",
              "      <td>1903</td>\n",
              "      <td>00000000000000350010</td>\n",
              "      <td>191</td>\n",
              "      <td>REPASSES ARREC TRIBUTOS</td>\n",
              "      <td>1</td>\n",
              "      <td>Fundo Partidário</td>\n",
              "      <td>FP: 2-Ordinário FEFC:-</td>\n",
              "    </tr>\n",
              "    <tr>\n",
              "      <th>1</th>\n",
              "      <td>05/08/2021</td>\n",
              "      <td>01:00:05</td>\n",
              "      <td>2020</td>\n",
              "      <td>8093442000131</td>\n",
              "      <td>REPUBLICANOS</td>\n",
              "      <td>Estadual</td>\n",
              "      <td>2</td>\n",
              "      <td>TRANSFERENCIA ENVIADA</td>\n",
              "      <td>14/12/2020</td>\n",
              "      <td>555251000014953</td>\n",
              "      <td>D</td>\n",
              "      <td>117</td>\n",
              "      <td>TRANSFERÊNCIA ENTRE CONTAS</td>\n",
              "      <td>1</td>\n",
              "      <td>BCO BRASIL</td>\n",
              "      <td>16</td>\n",
              "      <td>3011011</td>\n",
              "      <td>1</td>\n",
              "      <td>12,290.66</td>\n",
              "      <td>1</td>\n",
              "      <td>BCO BRASIL</td>\n",
              "      <td>5251</td>\n",
              "      <td>00000000000000149535</td>\n",
              "      <td>38951730000140</td>\n",
              "      <td>ELEICAO 2020 ANTONIO LEMOS FILHO PREFEITO</td>\n",
              "      <td>4</td>\n",
              "      <td>Fundo Especial de Financiamento de Campanha</td>\n",
              "      <td>FP: - FEFC:1-Campanha</td>\n",
              "    </tr>\n",
              "    <tr>\n",
              "      <th>2</th>\n",
              "      <td>05/08/2021</td>\n",
              "      <td>01:00:05</td>\n",
              "      <td>2020</td>\n",
              "      <td>81183253000140</td>\n",
              "      <td>PSDB</td>\n",
              "      <td>Estadual</td>\n",
              "      <td>2</td>\n",
              "      <td>RESGATE BB FIX</td>\n",
              "      <td>23/10/2020</td>\n",
              "      <td>000000000000005</td>\n",
              "      <td>C</td>\n",
              "      <td>206</td>\n",
              "      <td>RESGATE DE APLICAÇÃO</td>\n",
              "      <td>1</td>\n",
              "      <td>BCO BRASIL</td>\n",
              "      <td>3041</td>\n",
              "      <td>440302</td>\n",
              "      <td>1</td>\n",
              "      <td>25,020.90</td>\n",
              "      <td>1</td>\n",
              "      <td>BCO BRASIL</td>\n",
              "      <td>3041</td>\n",
              "      <td>00000000000000440302</td>\n",
              "      <td>81183253000140</td>\n",
              "      <td>#NULO#</td>\n",
              "      <td>1</td>\n",
              "      <td>Fundo Partidário</td>\n",
              "      <td>FP: 2-Ordinário FEFC:-</td>\n",
              "    </tr>\n",
              "    <tr>\n",
              "      <th>3</th>\n",
              "      <td>05/08/2021</td>\n",
              "      <td>01:00:05</td>\n",
              "      <td>2020</td>\n",
              "      <td>12098398000120</td>\n",
              "      <td>CIDADANIA</td>\n",
              "      <td>Estadual</td>\n",
              "      <td>2</td>\n",
              "      <td>TED TRANSF.ELETR.DISPONIVEL</td>\n",
              "      <td>19/10/2020</td>\n",
              "      <td>000000000101901</td>\n",
              "      <td>D</td>\n",
              "      <td>120</td>\n",
              "      <td>TRANSF. INTERBANCÁRIA (DOC, TED)</td>\n",
              "      <td>1</td>\n",
              "      <td>BCO BRASIL</td>\n",
              "      <td>3650</td>\n",
              "      <td>600938</td>\n",
              "      <td>1</td>\n",
              "      <td>140,000.00</td>\n",
              "      <td>341</td>\n",
              "      <td>ITA? UNIBANCO S.A.</td>\n",
              "      <td>4525</td>\n",
              "      <td>00000000000000531189</td>\n",
              "      <td>38567073000132</td>\n",
              "      <td>ELEICAO 2020 NATANAEL FRANCISCO FERREIRA</td>\n",
              "      <td>4</td>\n",
              "      <td>Fundo Especial de Financiamento de Campanha</td>\n",
              "      <td>FP: - FEFC:1-Campanha</td>\n",
              "    </tr>\n",
              "    <tr>\n",
              "      <th>4</th>\n",
              "      <td>05/08/2021</td>\n",
              "      <td>01:00:05</td>\n",
              "      <td>2020</td>\n",
              "      <td>4818093000117</td>\n",
              "      <td>PV</td>\n",
              "      <td>Estadual</td>\n",
              "      <td>2</td>\n",
              "      <td>TARIFAS SERVICOS DIVERSOS</td>\n",
              "      <td>26/08/2020</td>\n",
              "      <td>832391200174460</td>\n",
              "      <td>D</td>\n",
              "      <td>105</td>\n",
              "      <td>TARIFAS</td>\n",
              "      <td>1</td>\n",
              "      <td>BCO BRASIL</td>\n",
              "      <td>2358</td>\n",
              "      <td>450529</td>\n",
              "      <td>1</td>\n",
              "      <td>0.54</td>\n",
              "      <td>1</td>\n",
              "      <td>BCO BRASIL</td>\n",
              "      <td>2358</td>\n",
              "      <td>00000000005010113011</td>\n",
              "      <td>191</td>\n",
              "      <td>BANCO DO BRASIL S.A.</td>\n",
              "      <td>2</td>\n",
              "      <td>Outros Recursos</td>\n",
              "      <td>FP: - FEFC:-</td>\n",
              "    </tr>\n",
              "  </tbody>\n",
              "</table>\n",
              "</div>"
            ],
            "text/plain": [
              "   DT_GERACAO  ... DS_DETALHE_FONTE_RECURSO\n",
              "0  05/08/2021  ...   FP: 2-Ordinário FEFC:-\n",
              "1  05/08/2021  ...    FP: - FEFC:1-Campanha\n",
              "2  05/08/2021  ...   FP: 2-Ordinário FEFC:-\n",
              "3  05/08/2021  ...    FP: - FEFC:1-Campanha\n",
              "4  05/08/2021  ...             FP: - FEFC:-\n",
              "\n",
              "[5 rows x 28 columns]"
            ]
          },
          "metadata": {},
          "execution_count": 84
        }
      ]
    },
    {
      "cell_type": "markdown",
      "metadata": {
        "id": "8m5W3n0aLMgq"
      },
      "source": [
        "**Documentação: leiame.pdf**\n",
        "\n",
        "- \"#NULO\" --> significa NULL para tipo STRING\n",
        "- \"-1\" -> significa NULL para tipo NUMÉRICO\n",
        "- \"#NE\" -> significa não era registrada no ano para tipo STRING\n",
        "- \"-3\" -> significa não era registrada no ano para tipo NUMÉRICO\n",
        "- Campo UF:\n",
        "    \n",
        "    BR - Nível Nacional\n",
        "\n",
        "    VT - Voto em trânsito\n",
        "\n",
        "    ZZ: Exterior\n",
        "\n"
      ]
    },
    {
      "cell_type": "code",
      "metadata": {
        "colab": {
          "base_uri": "https://localhost:8080/"
        },
        "id": "5VGp8QxrN05C",
        "outputId": "f438a9de-cf02-4494-bb34-a43de81a3445"
      },
      "source": [
        "df.shape"
      ],
      "execution_count": 86,
      "outputs": [
        {
          "output_type": "execute_result",
          "data": {
            "text/plain": [
              "(1247791, 28)"
            ]
          },
          "metadata": {},
          "execution_count": 86
        }
      ]
    },
    {
      "cell_type": "code",
      "metadata": {
        "id": "Bm0c38GZKQa8",
        "colab": {
          "base_uri": "https://localhost:8080/"
        },
        "outputId": "c6bc0bac-7273-41a8-8367-b2e46e405162"
      },
      "source": [
        "df.dtypes"
      ],
      "execution_count": 89,
      "outputs": [
        {
          "output_type": "execute_result",
          "data": {
            "text/plain": [
              "DT_GERACAO                          object\n",
              "HH_GERACAO                          object\n",
              "AA_REFERENCIA                        int64\n",
              "NR_CNPJ_PRESTADOR_CONTA              int64\n",
              "SG_PARTIDO                          object\n",
              "NM_ESFERA                           object\n",
              "TP_PESSOA                            int64\n",
              "DS_LANCAMENTO                       object\n",
              "DT_LANCAMENTO               datetime64[ns]\n",
              "NR_DOCUMENTO                        object\n",
              "TP_LANCAMENTO                       object\n",
              "TP_OPERACAO                          int64\n",
              "NM_OPERACAO                         object\n",
              "CD_BANCO                             int64\n",
              "NM_BANCO                            object\n",
              "NR_AGENCIA                           int64\n",
              "NR_CONTA                             int64\n",
              "TP_CONTA                             int64\n",
              "VR_LANCAMENTO                      float64\n",
              "CD_BANCO_CONTRAPARTE                 int64\n",
              "NM_BANCO_CONTRAPARTE                object\n",
              "NR_AGENCIA_CONTRAPARTE               int64\n",
              "NR_CONTA_CONTRAPARTE                object\n",
              "NR_CPF_CNPJ_CONTRAPARTE              int64\n",
              "NM_CONTRAPARTE                      object\n",
              "CD_FONTE_RECURSO                    object\n",
              "NM_FONTE_RECURSO                    object\n",
              "DS_DETALHE_FONTE_RECURSO            object\n",
              "dtype: object"
            ]
          },
          "metadata": {},
          "execution_count": 89
        }
      ]
    },
    {
      "cell_type": "code",
      "metadata": {
        "id": "Uq0JjpUvjnXe"
      },
      "source": [
        "#Transformando DT_LANCAMENTO em datetime\n",
        "df[\"DT_LANCAMENTO\"] = pd.to_datetime(df[\"DT_LANCAMENTO\"])"
      ],
      "execution_count": 7,
      "outputs": []
    },
    {
      "cell_type": "code",
      "metadata": {
        "id": "NtoWnktjQ9JW"
      },
      "source": [
        "#Removendo Colunas desnecessárias\n",
        "df.drop(columns=[\"DT_GERACAO\", \"HH_GERACAO\"], inplace=True)\n"
      ],
      "execution_count": 8,
      "outputs": []
    },
    {
      "cell_type": "code",
      "metadata": {
        "id": "7P4IbaDIU82o"
      },
      "source": [
        "df.sample(5)"
      ],
      "execution_count": null,
      "outputs": []
    },
    {
      "cell_type": "code",
      "metadata": {
        "colab": {
          "base_uri": "https://localhost:8080/"
        },
        "id": "ZTXypNkLvF4U",
        "outputId": "59aa4f75-61bf-45d1-8a0a-b8d729820845"
      },
      "source": [
        "#Lista de Partidos Políticos\n",
        "df[\"SG_PARTIDO\"].unique() "
      ],
      "execution_count": 10,
      "outputs": [
        {
          "output_type": "execute_result",
          "data": {
            "text/plain": [
              "array(['MDB', 'REPUBLICANOS', 'PSDB', 'CIDADANIA', 'PV', 'PROS', 'PSB',\n",
              "       'PP', 'PSC', 'PT', 'PSD', 'PSOL', 'PSL', 'PTB', 'PDT', 'SDD',\n",
              "       'PATRI', 'PCdoB', 'PODE', 'NOVO', 'DEM', 'PL', 'PRTB', 'PCB',\n",
              "       'REDE', 'AVANTE', 'DC', '#NULO#', 'PMN', 'PMB', 'PTC', 'PSTU',\n",
              "       'UP', 'PCO', 'PHS', 'PRP', 'PPL'], dtype=object)"
            ]
          },
          "metadata": {},
          "execution_count": 10
        }
      ]
    },
    {
      "cell_type": "code",
      "metadata": {
        "id": "6ogRzqHUVDRB"
      },
      "source": [
        "#Criando colunas de descrição para códigos\n",
        "df.loc[df['TP_PESSOA'] == 1, 'DSC_TP_PESSOA'] = \"PESSOA FÍSICA\"\n",
        "df.loc[df['TP_PESSOA'] == 2, 'DSC_TP_PESSOA'] = \"PESSOA JURÍDICA\"\n",
        "df.loc[df['TP_PESSOA'] == -1, 'DSC_TP_PESSOA'] = \"NÃO INFORMADO\"\n",
        "df.loc[df['TP_LANCAMENTO'] == \"C\", 'DSC_TP_LANCAMENTO'] = \"CRÉDITO\"\n",
        "df.loc[df['TP_LANCAMENTO'] == \"D\", 'DSC_TP_LANCAMENTO'] = \"DÉBITO\"\n",
        "df.loc[df['TP_LANCAMENTO'] == \"#NULO\", 'DSC_TP_LANCAMENTO'] = \"NÃO INFORMADO\"\n",
        "df.loc[df['TP_CONTA'] == 1, 'DSC_TP_CONTA'] = \"CONTA CORRENTE\"\n",
        "df.loc[df['TP_CONTA'] == 2, 'DSC_TP_CONTA'] = \"POUPANÇA\"\n",
        "df.loc[df['TP_CONTA'] == 3, 'DSC_TP_CONTA'] = \"INVESTIMENTO\"\n",
        "df.loc[df['TP_CONTA'] == 4, 'DSC_TP_CONTA'] = \"OUTROS\"\n",
        "df.loc[df['TP_CONTA'] == -1, 'DSC_TP_CONTA'] = \"NÃO INFORMADO\"\n",
        "#Trocando \"#NULO\" por \"NÃO INFORMADO\"\n",
        "df.loc[df['SG_PARTIDO'] == \"#NULO#\", 'SG_PARTIDO'] = \"NÃO INFORMADO\"\n",
        "df.loc[df['NM_OPERACAO'] == \"#NULO#\", 'NM_OPERACAO'] = \"NÃO INFORMADO\"\n",
        "df.loc[df['NM_ESFERA'] == \"#NULO#\", 'NM_ESFERA'] = \"NÃO INFORMADO\"\n",
        "df.loc[df['NM_BANCO_CONTRAPARTE'] == \"#NULO#\", 'NM_BANCO_CONTRAPARTE'] = \"NÃO INFORMADO\"\n",
        "df.loc[df['NM_FONTE_RECURSO'] == \"#NULO#\", 'NM_FONTE_RECURSO'] = \"NÃO INFORMADO\"\n",
        "df.loc[df['NM_CONTRAPARTE'] == \"#NULO#\", 'NM_CONTRAPARTE'] = \"NÃO INFORMADO\"\n"
      ],
      "execution_count": null,
      "outputs": []
    },
    {
      "cell_type": "code",
      "metadata": {
        "id": "eqndfFKjiv_6"
      },
      "source": [
        "#Removendo Colunas que não serão utilizadas\n",
        "df.drop(columns=[\"TP_PESSOA\", \"TP_LANCAMENTO\", \"TP_CONTA\", \"CD_BANCO\", \"CD_BANCO_CONTRAPARTE\", \"CD_FONTE_RECURSO\", \"DS_DETALHE_FONTE_RECURSO\"], inplace=True)"
      ],
      "execution_count": 12,
      "outputs": []
    },
    {
      "cell_type": "code",
      "metadata": {
        "colab": {
          "base_uri": "https://localhost:8080/",
          "height": 411
        },
        "id": "nPEejNExYNM-",
        "outputId": "70900764-ac64-4993-f2a4-c7c8d55a8288"
      },
      "source": [
        "df.sample(5)"
      ],
      "execution_count": 13,
      "outputs": [
        {
          "output_type": "execute_result",
          "data": {
            "text/html": [
              "<div>\n",
              "<style scoped>\n",
              "    .dataframe tbody tr th:only-of-type {\n",
              "        vertical-align: middle;\n",
              "    }\n",
              "\n",
              "    .dataframe tbody tr th {\n",
              "        vertical-align: top;\n",
              "    }\n",
              "\n",
              "    .dataframe thead th {\n",
              "        text-align: right;\n",
              "    }\n",
              "</style>\n",
              "<table border=\"1\" class=\"dataframe\">\n",
              "  <thead>\n",
              "    <tr style=\"text-align: right;\">\n",
              "      <th></th>\n",
              "      <th>AA_REFERENCIA</th>\n",
              "      <th>NR_CNPJ_PRESTADOR_CONTA</th>\n",
              "      <th>SG_PARTIDO</th>\n",
              "      <th>NM_ESFERA</th>\n",
              "      <th>DS_LANCAMENTO</th>\n",
              "      <th>DT_LANCAMENTO</th>\n",
              "      <th>NR_DOCUMENTO</th>\n",
              "      <th>TP_OPERACAO</th>\n",
              "      <th>NM_OPERACAO</th>\n",
              "      <th>NM_BANCO</th>\n",
              "      <th>NR_AGENCIA</th>\n",
              "      <th>NR_CONTA</th>\n",
              "      <th>VR_LANCAMENTO</th>\n",
              "      <th>NM_BANCO_CONTRAPARTE</th>\n",
              "      <th>NR_AGENCIA_CONTRAPARTE</th>\n",
              "      <th>NR_CONTA_CONTRAPARTE</th>\n",
              "      <th>NR_CPF_CNPJ_CONTRAPARTE</th>\n",
              "      <th>NM_CONTRAPARTE</th>\n",
              "      <th>NM_FONTE_RECURSO</th>\n",
              "      <th>DSC_TP_PESSOA</th>\n",
              "      <th>DSC_TP_LANCAMENTO</th>\n",
              "      <th>DSC_TP_CONTA</th>\n",
              "    </tr>\n",
              "  </thead>\n",
              "  <tbody>\n",
              "    <tr>\n",
              "      <th>480179</th>\n",
              "      <td>2020</td>\n",
              "      <td>6196439000118</td>\n",
              "      <td>PSC</td>\n",
              "      <td>Municipal</td>\n",
              "      <td>CHEQUE</td>\n",
              "      <td>2020-11-19</td>\n",
              "      <td>000000000850082</td>\n",
              "      <td>101</td>\n",
              "      <td>CHEQUES</td>\n",
              "      <td>BCO BRASIL</td>\n",
              "      <td>2059</td>\n",
              "      <td>152897</td>\n",
              "      <td>100.00</td>\n",
              "      <td>NÃO INFORMADO</td>\n",
              "      <td>-1</td>\n",
              "      <td>#NULO#</td>\n",
              "      <td>-1</td>\n",
              "      <td>#NULO#</td>\n",
              "      <td>NÃO INFORMADO</td>\n",
              "      <td>NÃO INFORMADO</td>\n",
              "      <td>DÉBITO</td>\n",
              "      <td>CONTA CORRENTE</td>\n",
              "    </tr>\n",
              "    <tr>\n",
              "      <th>477950</th>\n",
              "      <td>2020</td>\n",
              "      <td>4078889000180</td>\n",
              "      <td>PODE</td>\n",
              "      <td>Estadual</td>\n",
              "      <td>DOC/TED INTERNET</td>\n",
              "      <td>2020-10-13</td>\n",
              "      <td>199790</td>\n",
              "      <td>105</td>\n",
              "      <td>TARIFAS</td>\n",
              "      <td>CAIXA ECONOMICA FEDERAL</td>\n",
              "      <td>1019</td>\n",
              "      <td>3000026094</td>\n",
              "      <td>10.00</td>\n",
              "      <td>NÃO INFORMADO</td>\n",
              "      <td>-1</td>\n",
              "      <td>#NULO#</td>\n",
              "      <td>360305000104</td>\n",
              "      <td>CAIXA ECONOMICA FEDERAL</td>\n",
              "      <td>Fundo Especial de Financiamento de Campanha</td>\n",
              "      <td>NÃO INFORMADO</td>\n",
              "      <td>DÉBITO</td>\n",
              "      <td>CONTA CORRENTE</td>\n",
              "    </tr>\n",
              "    <tr>\n",
              "      <th>905880</th>\n",
              "      <td>2020</td>\n",
              "      <td>9057316000194</td>\n",
              "      <td>DEM</td>\n",
              "      <td>Estadual</td>\n",
              "      <td>TARIFA DE DOC OU TED</td>\n",
              "      <td>2020-07-20</td>\n",
              "      <td>892021200626785</td>\n",
              "      <td>105</td>\n",
              "      <td>TARIFAS</td>\n",
              "      <td>BCO BRASIL</td>\n",
              "      <td>7</td>\n",
              "      <td>67768</td>\n",
              "      <td>10.45</td>\n",
              "      <td>BCO BRASIL</td>\n",
              "      <td>7</td>\n",
              "      <td>00000000005010113011</td>\n",
              "      <td>191</td>\n",
              "      <td>BANCO DO BRASIL S.A.</td>\n",
              "      <td>Fundo Partidário</td>\n",
              "      <td>PESSOA JURÍDICA</td>\n",
              "      <td>DÉBITO</td>\n",
              "      <td>CONTA CORRENTE</td>\n",
              "    </tr>\n",
              "    <tr>\n",
              "      <th>1237030</th>\n",
              "      <td>2020</td>\n",
              "      <td>23373863000100</td>\n",
              "      <td>PSB</td>\n",
              "      <td>Municipal</td>\n",
              "      <td>TRANSFERENCIA ENVIADA</td>\n",
              "      <td>2020-10-23</td>\n",
              "      <td>553068000063036</td>\n",
              "      <td>117</td>\n",
              "      <td>TRANSFERÊNCIA ENTRE CONTAS</td>\n",
              "      <td>BCO BRASIL</td>\n",
              "      <td>1584</td>\n",
              "      <td>263427</td>\n",
              "      <td>4000.00</td>\n",
              "      <td>BCO BRASIL</td>\n",
              "      <td>3068</td>\n",
              "      <td>00000000000000630365</td>\n",
              "      <td>38900209000184</td>\n",
              "      <td>ELEICAO 2020 IRACEMA DOS SANTOS FERREIRA LAGES...</td>\n",
              "      <td>Fundo Partidário</td>\n",
              "      <td>PESSOA JURÍDICA</td>\n",
              "      <td>DÉBITO</td>\n",
              "      <td>CONTA CORRENTE</td>\n",
              "    </tr>\n",
              "    <tr>\n",
              "      <th>1079486</th>\n",
              "      <td>2020</td>\n",
              "      <td>7973108000100</td>\n",
              "      <td>PSC</td>\n",
              "      <td>Municipal</td>\n",
              "      <td>TED DEVOLVIDA DIF TITULARIDADE CIP</td>\n",
              "      <td>2020-10-12</td>\n",
              "      <td>00000000000000000000</td>\n",
              "      <td>204</td>\n",
              "      <td>ESTORNOS</td>\n",
              "      <td>BCO SANTANDER</td>\n",
              "      <td>3639</td>\n",
              "      <td>380000213</td>\n",
              "      <td>750.00</td>\n",
              "      <td>NÃO INFORMADO</td>\n",
              "      <td>-1</td>\n",
              "      <td>#NULO#</td>\n",
              "      <td>-1</td>\n",
              "      <td>#NULO#</td>\n",
              "      <td>NÃO INFORMADO</td>\n",
              "      <td>NÃO INFORMADO</td>\n",
              "      <td>CRÉDITO</td>\n",
              "      <td>CONTA CORRENTE</td>\n",
              "    </tr>\n",
              "  </tbody>\n",
              "</table>\n",
              "</div>"
            ],
            "text/plain": [
              "         AA_REFERENCIA  ...    DSC_TP_CONTA\n",
              "480179            2020  ...  CONTA CORRENTE\n",
              "477950            2020  ...  CONTA CORRENTE\n",
              "905880            2020  ...  CONTA CORRENTE\n",
              "1237030           2020  ...  CONTA CORRENTE\n",
              "1079486           2020  ...  CONTA CORRENTE\n",
              "\n",
              "[5 rows x 22 columns]"
            ]
          },
          "metadata": {},
          "execution_count": 13
        }
      ]
    },
    {
      "cell_type": "code",
      "metadata": {
        "colab": {
          "base_uri": "https://localhost:8080/"
        },
        "id": "3XHnOEPUNb5F",
        "outputId": "155b4260-76f6-4d49-fe3d-aeeb5f9ff2e2"
      },
      "source": [
        "#Missing Values\n",
        "df.isnull().sum()"
      ],
      "execution_count": 14,
      "outputs": [
        {
          "output_type": "execute_result",
          "data": {
            "text/plain": [
              "AA_REFERENCIA                 0\n",
              "NR_CNPJ_PRESTADOR_CONTA       0\n",
              "SG_PARTIDO                    0\n",
              "NM_ESFERA                     0\n",
              "DS_LANCAMENTO                 0\n",
              "DT_LANCAMENTO                 0\n",
              "NR_DOCUMENTO                  0\n",
              "TP_OPERACAO                   0\n",
              "NM_OPERACAO                   0\n",
              "NM_BANCO                      0\n",
              "NR_AGENCIA                    0\n",
              "NR_CONTA                      0\n",
              "VR_LANCAMENTO                 0\n",
              "NM_BANCO_CONTRAPARTE          0\n",
              "NR_AGENCIA_CONTRAPARTE        0\n",
              "NR_CONTA_CONTRAPARTE        521\n",
              "NR_CPF_CNPJ_CONTRAPARTE       0\n",
              "NM_CONTRAPARTE              732\n",
              "NM_FONTE_RECURSO              0\n",
              "DSC_TP_PESSOA                 0\n",
              "DSC_TP_LANCAMENTO          6023\n",
              "DSC_TP_CONTA                  0\n",
              "dtype: int64"
            ]
          },
          "metadata": {},
          "execution_count": 14
        }
      ]
    },
    {
      "cell_type": "code",
      "metadata": {
        "id": "WlmRoC_5NVit"
      },
      "source": [
        "df[\"NR_CONTA_CONTRAPARTE\"].fillna(\"NÃO INFORMADO\", inplace=True)\n",
        "df[\"NM_CONTRAPARTE\"].fillna(\"NÃO INFORMADO\", inplace=True)\n",
        "df[\"DSC_TP_LANCAMENTO\"].fillna(\"NÃO INFORMADO\", inplace=True)"
      ],
      "execution_count": 15,
      "outputs": []
    },
    {
      "cell_type": "code",
      "metadata": {
        "colab": {
          "base_uri": "https://localhost:8080/"
        },
        "id": "17OnPqD0jCkX",
        "outputId": "63775b7d-2685-453b-f168-bd391af4666f"
      },
      "source": [
        "#Missing Values\n",
        "df.isnull().sum()"
      ],
      "execution_count": 16,
      "outputs": [
        {
          "output_type": "execute_result",
          "data": {
            "text/plain": [
              "AA_REFERENCIA              0\n",
              "NR_CNPJ_PRESTADOR_CONTA    0\n",
              "SG_PARTIDO                 0\n",
              "NM_ESFERA                  0\n",
              "DS_LANCAMENTO              0\n",
              "DT_LANCAMENTO              0\n",
              "NR_DOCUMENTO               0\n",
              "TP_OPERACAO                0\n",
              "NM_OPERACAO                0\n",
              "NM_BANCO                   0\n",
              "NR_AGENCIA                 0\n",
              "NR_CONTA                   0\n",
              "VR_LANCAMENTO              0\n",
              "NM_BANCO_CONTRAPARTE       0\n",
              "NR_AGENCIA_CONTRAPARTE     0\n",
              "NR_CONTA_CONTRAPARTE       0\n",
              "NR_CPF_CNPJ_CONTRAPARTE    0\n",
              "NM_CONTRAPARTE             0\n",
              "NM_FONTE_RECURSO           0\n",
              "DSC_TP_PESSOA              0\n",
              "DSC_TP_LANCAMENTO          0\n",
              "DSC_TP_CONTA               0\n",
              "dtype: int64"
            ]
          },
          "metadata": {},
          "execution_count": 16
        }
      ]
    },
    {
      "cell_type": "code",
      "metadata": {
        "id": "6WSVnRWkKMEu",
        "colab": {
          "base_uri": "https://localhost:8080/",
          "height": 428
        },
        "outputId": "bfdc352b-82da-49e1-f1ec-d51c152ca9f9"
      },
      "source": [
        "df.sample(5)"
      ],
      "execution_count": 17,
      "outputs": [
        {
          "output_type": "execute_result",
          "data": {
            "text/html": [
              "<div>\n",
              "<style scoped>\n",
              "    .dataframe tbody tr th:only-of-type {\n",
              "        vertical-align: middle;\n",
              "    }\n",
              "\n",
              "    .dataframe tbody tr th {\n",
              "        vertical-align: top;\n",
              "    }\n",
              "\n",
              "    .dataframe thead th {\n",
              "        text-align: right;\n",
              "    }\n",
              "</style>\n",
              "<table border=\"1\" class=\"dataframe\">\n",
              "  <thead>\n",
              "    <tr style=\"text-align: right;\">\n",
              "      <th></th>\n",
              "      <th>AA_REFERENCIA</th>\n",
              "      <th>NR_CNPJ_PRESTADOR_CONTA</th>\n",
              "      <th>SG_PARTIDO</th>\n",
              "      <th>NM_ESFERA</th>\n",
              "      <th>DS_LANCAMENTO</th>\n",
              "      <th>DT_LANCAMENTO</th>\n",
              "      <th>NR_DOCUMENTO</th>\n",
              "      <th>TP_OPERACAO</th>\n",
              "      <th>NM_OPERACAO</th>\n",
              "      <th>NM_BANCO</th>\n",
              "      <th>NR_AGENCIA</th>\n",
              "      <th>NR_CONTA</th>\n",
              "      <th>VR_LANCAMENTO</th>\n",
              "      <th>NM_BANCO_CONTRAPARTE</th>\n",
              "      <th>NR_AGENCIA_CONTRAPARTE</th>\n",
              "      <th>NR_CONTA_CONTRAPARTE</th>\n",
              "      <th>NR_CPF_CNPJ_CONTRAPARTE</th>\n",
              "      <th>NM_CONTRAPARTE</th>\n",
              "      <th>NM_FONTE_RECURSO</th>\n",
              "      <th>DSC_TP_PESSOA</th>\n",
              "      <th>DSC_TP_LANCAMENTO</th>\n",
              "      <th>DSC_TP_CONTA</th>\n",
              "    </tr>\n",
              "  </thead>\n",
              "  <tbody>\n",
              "    <tr>\n",
              "      <th>837176</th>\n",
              "      <td>2020</td>\n",
              "      <td>3864995000127</td>\n",
              "      <td>PP</td>\n",
              "      <td>Municipal</td>\n",
              "      <td>APLICACAO EM BB FIX</td>\n",
              "      <td>2020-03-13</td>\n",
              "      <td>000000000000005</td>\n",
              "      <td>106</td>\n",
              "      <td>APLICAÇÃO</td>\n",
              "      <td>BCO BRASIL</td>\n",
              "      <td>4038</td>\n",
              "      <td>175706</td>\n",
              "      <td>118.2</td>\n",
              "      <td>BCO BRASIL</td>\n",
              "      <td>-1</td>\n",
              "      <td>#NULO#</td>\n",
              "      <td>-1</td>\n",
              "      <td>#NULO#</td>\n",
              "      <td>Outros Recursos</td>\n",
              "      <td>NÃO INFORMADO</td>\n",
              "      <td>DÉBITO</td>\n",
              "      <td>CONTA CORRENTE</td>\n",
              "    </tr>\n",
              "    <tr>\n",
              "      <th>1028427</th>\n",
              "      <td>2020</td>\n",
              "      <td>3902092000193</td>\n",
              "      <td>PDT</td>\n",
              "      <td>Municipal</td>\n",
              "      <td>TARIFA DE EXTRATO</td>\n",
              "      <td>2020-11-24</td>\n",
              "      <td>873290700068180</td>\n",
              "      <td>105</td>\n",
              "      <td>TARIFAS</td>\n",
              "      <td>BCO BRASIL</td>\n",
              "      <td>2001</td>\n",
              "      <td>156574</td>\n",
              "      <td>3.1</td>\n",
              "      <td>BCO BRASIL</td>\n",
              "      <td>2001</td>\n",
              "      <td>00000000005010113011</td>\n",
              "      <td>191</td>\n",
              "      <td>BANCO DO BRASIL S.A.</td>\n",
              "      <td>Recursos Para Campanha</td>\n",
              "      <td>PESSOA JURÍDICA</td>\n",
              "      <td>DÉBITO</td>\n",
              "      <td>CONTA CORRENTE</td>\n",
              "    </tr>\n",
              "    <tr>\n",
              "      <th>460580</th>\n",
              "      <td>2020</td>\n",
              "      <td>91557827000156</td>\n",
              "      <td>PP</td>\n",
              "      <td>Municipal</td>\n",
              "      <td>1156-CREDITO TRANSFERENCIA</td>\n",
              "      <td>2020-09-09</td>\n",
              "      <td>00000000000000103155</td>\n",
              "      <td>213</td>\n",
              "      <td>TRANSFERÊNCIA ENTRE CONTAS</td>\n",
              "      <td>BANCO DO ESTADO DO RIO GRANDE DO SUL</td>\n",
              "      <td>918</td>\n",
              "      <td>685842204</td>\n",
              "      <td>130.0</td>\n",
              "      <td>BANCO DO ESTADO DO RIO GRANDE DO SUL</td>\n",
              "      <td>320</td>\n",
              "      <td>00000000003583094006</td>\n",
              "      <td>2494557062</td>\n",
              "      <td>GABRIEL RODRIGUES MANZKE</td>\n",
              "      <td>NÃO INFORMADO</td>\n",
              "      <td>PESSOA FÍSICA</td>\n",
              "      <td>CRÉDITO</td>\n",
              "      <td>CONTA CORRENTE</td>\n",
              "    </tr>\n",
              "    <tr>\n",
              "      <th>225548</th>\n",
              "      <td>2020</td>\n",
              "      <td>15919976000130</td>\n",
              "      <td>PDT</td>\n",
              "      <td>Municipal</td>\n",
              "      <td>CHEQUE COMPENSADO</td>\n",
              "      <td>2020-10-22</td>\n",
              "      <td>000000000850150</td>\n",
              "      <td>101</td>\n",
              "      <td>CHEQUES</td>\n",
              "      <td>BCO BRASIL</td>\n",
              "      <td>462</td>\n",
              "      <td>365750</td>\n",
              "      <td>20.0</td>\n",
              "      <td>BCO BRASIL</td>\n",
              "      <td>462</td>\n",
              "      <td>00000000000000352195</td>\n",
              "      <td>7596961606</td>\n",
              "      <td>RAQUEL JOVELINA DA COSTA</td>\n",
              "      <td>Outros Recursos</td>\n",
              "      <td>PESSOA FÍSICA</td>\n",
              "      <td>DÉBITO</td>\n",
              "      <td>CONTA CORRENTE</td>\n",
              "    </tr>\n",
              "    <tr>\n",
              "      <th>721861</th>\n",
              "      <td>2020</td>\n",
              "      <td>3108861000186</td>\n",
              "      <td>PTB</td>\n",
              "      <td>Estadual</td>\n",
              "      <td>TRANSFERENCIA ENVIADA</td>\n",
              "      <td>2020-06-11</td>\n",
              "      <td>553178000058785</td>\n",
              "      <td>117</td>\n",
              "      <td>TRANSFERÊNCIA ENTRE CONTAS</td>\n",
              "      <td>BCO BRASIL</td>\n",
              "      <td>3178</td>\n",
              "      <td>588164</td>\n",
              "      <td>3000.0</td>\n",
              "      <td>BCO BRASIL</td>\n",
              "      <td>3178</td>\n",
              "      <td>00000000000000587850</td>\n",
              "      <td>38679503000108</td>\n",
              "      <td>ELEICAO 2020 FRANCISCO DAS CHAGAS ALVES DE OLI...</td>\n",
              "      <td>Fundo Especial de Financiamento de Campanha</td>\n",
              "      <td>PESSOA JURÍDICA</td>\n",
              "      <td>DÉBITO</td>\n",
              "      <td>CONTA CORRENTE</td>\n",
              "    </tr>\n",
              "  </tbody>\n",
              "</table>\n",
              "</div>"
            ],
            "text/plain": [
              "         AA_REFERENCIA  ...    DSC_TP_CONTA\n",
              "837176            2020  ...  CONTA CORRENTE\n",
              "1028427           2020  ...  CONTA CORRENTE\n",
              "460580            2020  ...  CONTA CORRENTE\n",
              "225548            2020  ...  CONTA CORRENTE\n",
              "721861            2020  ...  CONTA CORRENTE\n",
              "\n",
              "[5 rows x 22 columns]"
            ]
          },
          "metadata": {},
          "execution_count": 17
        }
      ]
    },
    {
      "cell_type": "code",
      "metadata": {
        "id": "nVt3cH6zefUD"
      },
      "source": [
        "#Formatar valores Float para duas casas decimais\n",
        "pd.options.display.float_format = '{:20,.2f}'.format"
      ],
      "execution_count": 19,
      "outputs": []
    },
    {
      "cell_type": "code",
      "metadata": {
        "id": "z_yZpK9ZLLid"
      },
      "source": [
        "#Créditos Recebidos\n",
        "df_creditos = df.loc[df.DSC_TP_LANCAMENTO == \"CRÉDITO\"].reset_index()\n",
        "df_creditos.rename(columns = {'VR_LANCAMENTO': 'VR_CREDITO'}, inplace = True)\n",
        "#Débitos Recebidos\n",
        "df_debitos  = df.loc[df.DSC_TP_LANCAMENTO == \"DÉBITO\"].reset_index()\n",
        "df_debitos.rename(columns = {'VR_LANCAMENTO': 'VR_DEBITO'}, inplace = True)"
      ],
      "execution_count": 192,
      "outputs": []
    },
    {
      "cell_type": "code",
      "metadata": {
        "colab": {
          "base_uri": "https://localhost:8080/",
          "height": 728
        },
        "id": "4RLbJgNA8IWs",
        "outputId": "433ad553-a331-4a7a-ec8a-38146ae38666"
      },
      "source": [
        "df_creditos\n",
        "#df_debitos"
      ],
      "execution_count": 146,
      "outputs": [
        {
          "output_type": "execute_result",
          "data": {
            "text/html": [
              "<div>\n",
              "<style scoped>\n",
              "    .dataframe tbody tr th:only-of-type {\n",
              "        vertical-align: middle;\n",
              "    }\n",
              "\n",
              "    .dataframe tbody tr th {\n",
              "        vertical-align: top;\n",
              "    }\n",
              "\n",
              "    .dataframe thead th {\n",
              "        text-align: right;\n",
              "    }\n",
              "</style>\n",
              "<table border=\"1\" class=\"dataframe\">\n",
              "  <thead>\n",
              "    <tr style=\"text-align: right;\">\n",
              "      <th></th>\n",
              "      <th>index</th>\n",
              "      <th>AA_REFERENCIA</th>\n",
              "      <th>NR_CNPJ_PRESTADOR_CONTA</th>\n",
              "      <th>SG_PARTIDO</th>\n",
              "      <th>NM_ESFERA</th>\n",
              "      <th>DS_LANCAMENTO</th>\n",
              "      <th>DT_LANCAMENTO</th>\n",
              "      <th>NR_DOCUMENTO</th>\n",
              "      <th>TP_OPERACAO</th>\n",
              "      <th>NM_OPERACAO</th>\n",
              "      <th>NM_BANCO</th>\n",
              "      <th>NR_AGENCIA</th>\n",
              "      <th>NR_CONTA</th>\n",
              "      <th>VR_CREDITO</th>\n",
              "      <th>NM_BANCO_CONTRAPARTE</th>\n",
              "      <th>NR_AGENCIA_CONTRAPARTE</th>\n",
              "      <th>NR_CONTA_CONTRAPARTE</th>\n",
              "      <th>NR_CPF_CNPJ_CONTRAPARTE</th>\n",
              "      <th>NM_CONTRAPARTE</th>\n",
              "      <th>NM_FONTE_RECURSO</th>\n",
              "      <th>DSC_TP_PESSOA</th>\n",
              "      <th>DSC_TP_LANCAMENTO</th>\n",
              "      <th>DSC_TP_CONTA</th>\n",
              "    </tr>\n",
              "  </thead>\n",
              "  <tbody>\n",
              "    <tr>\n",
              "      <th>0</th>\n",
              "      <td>2</td>\n",
              "      <td>2020</td>\n",
              "      <td>81183253000140</td>\n",
              "      <td>PSDB</td>\n",
              "      <td>Estadual</td>\n",
              "      <td>RESGATE BB FIX</td>\n",
              "      <td>2020-10-23</td>\n",
              "      <td>000000000000005</td>\n",
              "      <td>206</td>\n",
              "      <td>RESGATE DE APLICAÇÃO</td>\n",
              "      <td>BCO BRASIL</td>\n",
              "      <td>3041</td>\n",
              "      <td>440302</td>\n",
              "      <td>25020.90</td>\n",
              "      <td>BCO BRASIL</td>\n",
              "      <td>3041</td>\n",
              "      <td>00000000000000440302</td>\n",
              "      <td>81183253000140</td>\n",
              "      <td>#NULO#</td>\n",
              "      <td>Fundo Partidário</td>\n",
              "      <td>PESSOA JURÍDICA</td>\n",
              "      <td>CRÉDITO</td>\n",
              "      <td>CONTA CORRENTE</td>\n",
              "    </tr>\n",
              "    <tr>\n",
              "      <th>1</th>\n",
              "      <td>13</td>\n",
              "      <td>2020</td>\n",
              "      <td>20970026000170</td>\n",
              "      <td>PSC</td>\n",
              "      <td>Estadual</td>\n",
              "      <td>DEPOSITO ONLINE</td>\n",
              "      <td>2020-02-28</td>\n",
              "      <td>000051722712600</td>\n",
              "      <td>201</td>\n",
              "      <td>DEPÓSITOS</td>\n",
              "      <td>BCO BRASIL</td>\n",
              "      <td>1626</td>\n",
              "      <td>895849</td>\n",
              "      <td>120.00</td>\n",
              "      <td>NÃO INFORMADO</td>\n",
              "      <td>-1</td>\n",
              "      <td>#NULO#</td>\n",
              "      <td>51722712600</td>\n",
              "      <td>#NULO#</td>\n",
              "      <td>Outros Recursos</td>\n",
              "      <td>PESSOA FÍSICA</td>\n",
              "      <td>CRÉDITO</td>\n",
              "      <td>CONTA CORRENTE</td>\n",
              "    </tr>\n",
              "    <tr>\n",
              "      <th>2</th>\n",
              "      <td>14</td>\n",
              "      <td>2020</td>\n",
              "      <td>4928495000174</td>\n",
              "      <td>PT</td>\n",
              "      <td>Estadual</td>\n",
              "      <td>CREDITO CFE. INSTRUCOES</td>\n",
              "      <td>2020-05-26</td>\n",
              "      <td>000000000002819</td>\n",
              "      <td>205</td>\n",
              "      <td>LANÇAMENTO AVISADO</td>\n",
              "      <td>BCO BRASIL</td>\n",
              "      <td>102</td>\n",
              "      <td>24139</td>\n",
              "      <td>102.63</td>\n",
              "      <td>BCO BRASIL</td>\n",
              "      <td>3344</td>\n",
              "      <td>00000000000001234560</td>\n",
              "      <td>676262000170</td>\n",
              "      <td>PT NACIONAL</td>\n",
              "      <td>Outros Recursos</td>\n",
              "      <td>PESSOA JURÍDICA</td>\n",
              "      <td>CRÉDITO</td>\n",
              "      <td>CONTA CORRENTE</td>\n",
              "    </tr>\n",
              "    <tr>\n",
              "      <th>3</th>\n",
              "      <td>16</td>\n",
              "      <td>2020</td>\n",
              "      <td>1365593000152</td>\n",
              "      <td>PV</td>\n",
              "      <td>Estadual</td>\n",
              "      <td>RESGATE BB FIX</td>\n",
              "      <td>2020-10-22</td>\n",
              "      <td>000000000000042</td>\n",
              "      <td>206</td>\n",
              "      <td>RESGATE DE APLICAÇÃO</td>\n",
              "      <td>BCO BRASIL</td>\n",
              "      <td>5737</td>\n",
              "      <td>202320</td>\n",
              "      <td>18683.60</td>\n",
              "      <td>BCO BRASIL</td>\n",
              "      <td>5737</td>\n",
              "      <td>00000000000000202320</td>\n",
              "      <td>1365593000152</td>\n",
              "      <td>#NULO#</td>\n",
              "      <td>Fundo Especial de Financiamento de Campanha</td>\n",
              "      <td>PESSOA JURÍDICA</td>\n",
              "      <td>CRÉDITO</td>\n",
              "      <td>CONTA CORRENTE</td>\n",
              "    </tr>\n",
              "    <tr>\n",
              "      <th>4</th>\n",
              "      <td>25</td>\n",
              "      <td>2020</td>\n",
              "      <td>3108861000186</td>\n",
              "      <td>PTB</td>\n",
              "      <td>Estadual</td>\n",
              "      <td>ORDEM BANCARIA</td>\n",
              "      <td>2020-04-24</td>\n",
              "      <td>202004230013576</td>\n",
              "      <td>214</td>\n",
              "      <td>DEPÓSITOS ESPECIAIS</td>\n",
              "      <td>BCO BRASIL</td>\n",
              "      <td>3219</td>\n",
              "      <td>64467</td>\n",
              "      <td>56.00</td>\n",
              "      <td>BCO BRASIL</td>\n",
              "      <td>3791</td>\n",
              "      <td>00000000000000091014</td>\n",
              "      <td>6206659000185</td>\n",
              "      <td>FUNSAUDE TESOURO</td>\n",
              "      <td>Outros Recursos</td>\n",
              "      <td>PESSOA JURÍDICA</td>\n",
              "      <td>CRÉDITO</td>\n",
              "      <td>CONTA CORRENTE</td>\n",
              "    </tr>\n",
              "    <tr>\n",
              "      <th>...</th>\n",
              "      <td>...</td>\n",
              "      <td>...</td>\n",
              "      <td>...</td>\n",
              "      <td>...</td>\n",
              "      <td>...</td>\n",
              "      <td>...</td>\n",
              "      <td>...</td>\n",
              "      <td>...</td>\n",
              "      <td>...</td>\n",
              "      <td>...</td>\n",
              "      <td>...</td>\n",
              "      <td>...</td>\n",
              "      <td>...</td>\n",
              "      <td>...</td>\n",
              "      <td>...</td>\n",
              "      <td>...</td>\n",
              "      <td>...</td>\n",
              "      <td>...</td>\n",
              "      <td>...</td>\n",
              "      <td>...</td>\n",
              "      <td>...</td>\n",
              "      <td>...</td>\n",
              "      <td>...</td>\n",
              "    </tr>\n",
              "    <tr>\n",
              "      <th>342051</th>\n",
              "      <td>1247776</td>\n",
              "      <td>2020</td>\n",
              "      <td>19300418000142</td>\n",
              "      <td>SDD</td>\n",
              "      <td>Estadual</td>\n",
              "      <td>TRANSFERENCIA RECEBIDA</td>\n",
              "      <td>2020-10-23</td>\n",
              "      <td>553478000054517</td>\n",
              "      <td>213</td>\n",
              "      <td>TRANSFERÊNCIA ENTRE CONTAS</td>\n",
              "      <td>BCO BRASIL</td>\n",
              "      <td>2937</td>\n",
              "      <td>368954</td>\n",
              "      <td>420000.00</td>\n",
              "      <td>BCO BRASIL</td>\n",
              "      <td>3478</td>\n",
              "      <td>00000000000000545171</td>\n",
              "      <td>18532307000107</td>\n",
              "      <td>SOLIDARIEDADE DIRETORIO NACIONAL</td>\n",
              "      <td>Fundo Especial de Financiamento de Campanha</td>\n",
              "      <td>PESSOA JURÍDICA</td>\n",
              "      <td>CRÉDITO</td>\n",
              "      <td>CONTA CORRENTE</td>\n",
              "    </tr>\n",
              "    <tr>\n",
              "      <th>342052</th>\n",
              "      <td>1247778</td>\n",
              "      <td>2020</td>\n",
              "      <td>2459308000125</td>\n",
              "      <td>PT</td>\n",
              "      <td>Estadual</td>\n",
              "      <td>CREDITO CFE. INSTRUCOES</td>\n",
              "      <td>2020-12-03</td>\n",
              "      <td>000000000002780</td>\n",
              "      <td>205</td>\n",
              "      <td>LANÇAMENTO AVISADO</td>\n",
              "      <td>BCO BRASIL</td>\n",
              "      <td>1505</td>\n",
              "      <td>130001</td>\n",
              "      <td>38.11</td>\n",
              "      <td>BCO BRASIL</td>\n",
              "      <td>3344</td>\n",
              "      <td>00000000000001234560</td>\n",
              "      <td>676262000170</td>\n",
              "      <td>PT NACIONAL</td>\n",
              "      <td>Outros Recursos</td>\n",
              "      <td>PESSOA JURÍDICA</td>\n",
              "      <td>CRÉDITO</td>\n",
              "      <td>CONTA CORRENTE</td>\n",
              "    </tr>\n",
              "    <tr>\n",
              "      <th>342053</th>\n",
              "      <td>1247779</td>\n",
              "      <td>2020</td>\n",
              "      <td>14512048000193</td>\n",
              "      <td>PSD</td>\n",
              "      <td>Estadual</td>\n",
              "      <td>COBRANCA</td>\n",
              "      <td>2020-10-29</td>\n",
              "      <td>000000000000000</td>\n",
              "      <td>202</td>\n",
              "      <td>LÍQUIDO DE COBRANÇA</td>\n",
              "      <td>BCO BRASIL</td>\n",
              "      <td>3184</td>\n",
              "      <td>421006</td>\n",
              "      <td>400.00</td>\n",
              "      <td>ITA? UNIBANCO S.A.</td>\n",
              "      <td>2947</td>\n",
              "      <td>00000000000000000000</td>\n",
              "      <td>55587593991</td>\n",
              "      <td>MARCIO FERNANDO NUNES</td>\n",
              "      <td>Outros Recursos</td>\n",
              "      <td>PESSOA FÍSICA</td>\n",
              "      <td>CRÉDITO</td>\n",
              "      <td>CONTA CORRENTE</td>\n",
              "    </tr>\n",
              "    <tr>\n",
              "      <th>342054</th>\n",
              "      <td>1247783</td>\n",
              "      <td>2020</td>\n",
              "      <td>91698118000190</td>\n",
              "      <td>PSB</td>\n",
              "      <td>Estadual</td>\n",
              "      <td>0744-CREDITO CONV.ENCARGOS</td>\n",
              "      <td>2020-03-12</td>\n",
              "      <td>00000000000000000334</td>\n",
              "      <td>999</td>\n",
              "      <td>#NULO#</td>\n",
              "      <td>BANCO DO ESTADO DO RIO GRANDE DO SUL</td>\n",
              "      <td>839</td>\n",
              "      <td>605177102</td>\n",
              "      <td>448.00</td>\n",
              "      <td>BANCO DO ESTADO DO RIO GRANDE DO SUL</td>\n",
              "      <td>597</td>\n",
              "      <td>00000000003521330603</td>\n",
              "      <td>72944579053</td>\n",
              "      <td>LETICIA DA SILVA GOMES</td>\n",
              "      <td>Outros Recursos</td>\n",
              "      <td>PESSOA FÍSICA</td>\n",
              "      <td>CRÉDITO</td>\n",
              "      <td>CONTA CORRENTE</td>\n",
              "    </tr>\n",
              "    <tr>\n",
              "      <th>342055</th>\n",
              "      <td>1247786</td>\n",
              "      <td>2020</td>\n",
              "      <td>87436000160</td>\n",
              "      <td>PSDB</td>\n",
              "      <td>Estadual</td>\n",
              "      <td>RESGATE BB FIX</td>\n",
              "      <td>2020-03-07</td>\n",
              "      <td>000000000000005</td>\n",
              "      <td>206</td>\n",
              "      <td>RESGATE DE APLICAÇÃO</td>\n",
              "      <td>BCO BRASIL</td>\n",
              "      <td>5783</td>\n",
              "      <td>937940</td>\n",
              "      <td>13288.29</td>\n",
              "      <td>BCO BRASIL</td>\n",
              "      <td>5783</td>\n",
              "      <td>00000000000000937940</td>\n",
              "      <td>87436000160</td>\n",
              "      <td>#NULO#</td>\n",
              "      <td>Fundo Partidário</td>\n",
              "      <td>PESSOA JURÍDICA</td>\n",
              "      <td>CRÉDITO</td>\n",
              "      <td>CONTA CORRENTE</td>\n",
              "    </tr>\n",
              "  </tbody>\n",
              "</table>\n",
              "<p>342056 rows × 23 columns</p>\n",
              "</div>"
            ],
            "text/plain": [
              "          index  AA_REFERENCIA  ...  DSC_TP_LANCAMENTO    DSC_TP_CONTA\n",
              "0             2           2020  ...            CRÉDITO  CONTA CORRENTE\n",
              "1            13           2020  ...            CRÉDITO  CONTA CORRENTE\n",
              "2            14           2020  ...            CRÉDITO  CONTA CORRENTE\n",
              "3            16           2020  ...            CRÉDITO  CONTA CORRENTE\n",
              "4            25           2020  ...            CRÉDITO  CONTA CORRENTE\n",
              "...         ...            ...  ...                ...             ...\n",
              "342051  1247776           2020  ...            CRÉDITO  CONTA CORRENTE\n",
              "342052  1247778           2020  ...            CRÉDITO  CONTA CORRENTE\n",
              "342053  1247779           2020  ...            CRÉDITO  CONTA CORRENTE\n",
              "342054  1247783           2020  ...            CRÉDITO  CONTA CORRENTE\n",
              "342055  1247786           2020  ...            CRÉDITO  CONTA CORRENTE\n",
              "\n",
              "[342056 rows x 23 columns]"
            ]
          },
          "metadata": {},
          "execution_count": 146
        }
      ]
    },
    {
      "cell_type": "code",
      "metadata": {
        "colab": {
          "base_uri": "https://localhost:8080/",
          "height": 1000
        },
        "id": "x-VWNJq8gQa6",
        "outputId": "6d57a1be-f0db-486a-de63-7325b15d12a9"
      },
      "source": [
        "#Créditos por Partido\n",
        "df_cred_part = df_creditos.groupby(\"SG_PARTIDO\")[\"VR_CREDITO\"].sum()\n",
        "#Débitos por Partido\n",
        "df_deb_part  = df_debitos.groupby(\"SG_PARTIDO\")[\"VR_DEBITO\"].sum()\n",
        "#Saldos Débito x Crédito\n",
        "df_saldos = pd.merge(df_cred_part, df_deb_part, on=\"SG_PARTIDO\").reset_index()\n",
        "df_saldos.set_index(\"SG_PARTIDO\")\n",
        "\n",
        "\n",
        "df_saldos\n"
      ],
      "execution_count": 136,
      "outputs": [
        {
          "output_type": "execute_result",
          "data": {
            "text/html": [
              "<div>\n",
              "<style scoped>\n",
              "    .dataframe tbody tr th:only-of-type {\n",
              "        vertical-align: middle;\n",
              "    }\n",
              "\n",
              "    .dataframe tbody tr th {\n",
              "        vertical-align: top;\n",
              "    }\n",
              "\n",
              "    .dataframe thead th {\n",
              "        text-align: right;\n",
              "    }\n",
              "</style>\n",
              "<table border=\"1\" class=\"dataframe\">\n",
              "  <thead>\n",
              "    <tr style=\"text-align: right;\">\n",
              "      <th></th>\n",
              "      <th>SG_PARTIDO</th>\n",
              "      <th>VR_CREDITO</th>\n",
              "      <th>VR_DEBITO</th>\n",
              "    </tr>\n",
              "  </thead>\n",
              "  <tbody>\n",
              "    <tr>\n",
              "      <th>0</th>\n",
              "      <td>AVANTE</td>\n",
              "      <td>45890416.55</td>\n",
              "      <td>71212243.27</td>\n",
              "    </tr>\n",
              "    <tr>\n",
              "      <th>1</th>\n",
              "      <td>CIDADANIA</td>\n",
              "      <td>199320871.79</td>\n",
              "      <td>197909166.14</td>\n",
              "    </tr>\n",
              "    <tr>\n",
              "      <th>2</th>\n",
              "      <td>DC</td>\n",
              "      <td>13556803.00</td>\n",
              "      <td>13610612.44</td>\n",
              "    </tr>\n",
              "    <tr>\n",
              "      <th>3</th>\n",
              "      <td>DEM</td>\n",
              "      <td>269177579.36</td>\n",
              "      <td>266098114.99</td>\n",
              "    </tr>\n",
              "    <tr>\n",
              "      <th>4</th>\n",
              "      <td>MDB</td>\n",
              "      <td>700283723.83</td>\n",
              "      <td>698991796.09</td>\n",
              "    </tr>\n",
              "    <tr>\n",
              "      <th>5</th>\n",
              "      <td>NOVO</td>\n",
              "      <td>98128808.45</td>\n",
              "      <td>97347678.04</td>\n",
              "    </tr>\n",
              "    <tr>\n",
              "      <th>6</th>\n",
              "      <td>NÃO INFORMADO</td>\n",
              "      <td>99424596.43</td>\n",
              "      <td>97956287.20</td>\n",
              "    </tr>\n",
              "    <tr>\n",
              "      <th>7</th>\n",
              "      <td>PATRI</td>\n",
              "      <td>214280615.37</td>\n",
              "      <td>213712649.76</td>\n",
              "    </tr>\n",
              "    <tr>\n",
              "      <th>8</th>\n",
              "      <td>PCB</td>\n",
              "      <td>2759677.61</td>\n",
              "      <td>2699022.80</td>\n",
              "    </tr>\n",
              "    <tr>\n",
              "      <th>9</th>\n",
              "      <td>PCO</td>\n",
              "      <td>1398606.24</td>\n",
              "      <td>1402347.21</td>\n",
              "    </tr>\n",
              "    <tr>\n",
              "      <th>10</th>\n",
              "      <td>PCdoB</td>\n",
              "      <td>117802712.35</td>\n",
              "      <td>116564545.15</td>\n",
              "    </tr>\n",
              "    <tr>\n",
              "      <th>11</th>\n",
              "      <td>PDT</td>\n",
              "      <td>311643632.44</td>\n",
              "      <td>310775172.72</td>\n",
              "    </tr>\n",
              "    <tr>\n",
              "      <th>12</th>\n",
              "      <td>PHS</td>\n",
              "      <td>59406.58</td>\n",
              "      <td>64647.00</td>\n",
              "    </tr>\n",
              "    <tr>\n",
              "      <th>13</th>\n",
              "      <td>PL</td>\n",
              "      <td>400505952.89</td>\n",
              "      <td>398956737.45</td>\n",
              "    </tr>\n",
              "    <tr>\n",
              "      <th>14</th>\n",
              "      <td>PMB</td>\n",
              "      <td>689697.14</td>\n",
              "      <td>660410.85</td>\n",
              "    </tr>\n",
              "    <tr>\n",
              "      <th>15</th>\n",
              "      <td>PMN</td>\n",
              "      <td>20229649.46</td>\n",
              "      <td>20205750.79</td>\n",
              "    </tr>\n",
              "    <tr>\n",
              "      <th>16</th>\n",
              "      <td>PODE</td>\n",
              "      <td>417913096.77</td>\n",
              "      <td>417778043.60</td>\n",
              "    </tr>\n",
              "    <tr>\n",
              "      <th>17</th>\n",
              "      <td>PP</td>\n",
              "      <td>611015251.68</td>\n",
              "      <td>606179850.76</td>\n",
              "    </tr>\n",
              "    <tr>\n",
              "      <th>18</th>\n",
              "      <td>PROS</td>\n",
              "      <td>177105615.10</td>\n",
              "      <td>176743264.26</td>\n",
              "    </tr>\n",
              "    <tr>\n",
              "      <th>19</th>\n",
              "      <td>PRP</td>\n",
              "      <td>60692.59</td>\n",
              "      <td>65633.35</td>\n",
              "    </tr>\n",
              "    <tr>\n",
              "      <th>20</th>\n",
              "      <td>PRTB</td>\n",
              "      <td>4746515.25</td>\n",
              "      <td>5064763.66</td>\n",
              "    </tr>\n",
              "    <tr>\n",
              "      <th>21</th>\n",
              "      <td>PSB</td>\n",
              "      <td>343467674.90</td>\n",
              "      <td>339347441.85</td>\n",
              "    </tr>\n",
              "    <tr>\n",
              "      <th>22</th>\n",
              "      <td>PSC</td>\n",
              "      <td>135398068.34</td>\n",
              "      <td>134395187.07</td>\n",
              "    </tr>\n",
              "    <tr>\n",
              "      <th>23</th>\n",
              "      <td>PSD</td>\n",
              "      <td>730179823.15</td>\n",
              "      <td>724081946.95</td>\n",
              "    </tr>\n",
              "    <tr>\n",
              "      <th>24</th>\n",
              "      <td>PSDB</td>\n",
              "      <td>638744216.57</td>\n",
              "      <td>637625713.35</td>\n",
              "    </tr>\n",
              "    <tr>\n",
              "      <th>25</th>\n",
              "      <td>PSL</td>\n",
              "      <td>815142918.61</td>\n",
              "      <td>810704823.04</td>\n",
              "    </tr>\n",
              "    <tr>\n",
              "      <th>26</th>\n",
              "      <td>PSOL</td>\n",
              "      <td>127654216.26</td>\n",
              "      <td>125203202.45</td>\n",
              "    </tr>\n",
              "    <tr>\n",
              "      <th>27</th>\n",
              "      <td>PSTU</td>\n",
              "      <td>716050.63</td>\n",
              "      <td>702835.12</td>\n",
              "    </tr>\n",
              "    <tr>\n",
              "      <th>28</th>\n",
              "      <td>PT</td>\n",
              "      <td>551099258.25</td>\n",
              "      <td>548217739.52</td>\n",
              "    </tr>\n",
              "    <tr>\n",
              "      <th>29</th>\n",
              "      <td>PTB</td>\n",
              "      <td>215206245.95</td>\n",
              "      <td>214765200.52</td>\n",
              "    </tr>\n",
              "    <tr>\n",
              "      <th>30</th>\n",
              "      <td>PTC</td>\n",
              "      <td>30349070.29</td>\n",
              "      <td>30342716.39</td>\n",
              "    </tr>\n",
              "    <tr>\n",
              "      <th>31</th>\n",
              "      <td>PV</td>\n",
              "      <td>90132676.05</td>\n",
              "      <td>88749660.47</td>\n",
              "    </tr>\n",
              "    <tr>\n",
              "      <th>32</th>\n",
              "      <td>REDE</td>\n",
              "      <td>93536774.85</td>\n",
              "      <td>93253525.15</td>\n",
              "    </tr>\n",
              "    <tr>\n",
              "      <th>33</th>\n",
              "      <td>REPUBLICANOS</td>\n",
              "      <td>378821229.21</td>\n",
              "      <td>377957533.74</td>\n",
              "    </tr>\n",
              "    <tr>\n",
              "      <th>34</th>\n",
              "      <td>SDD</td>\n",
              "      <td>211859123.81</td>\n",
              "      <td>211492538.55</td>\n",
              "    </tr>\n",
              "    <tr>\n",
              "      <th>35</th>\n",
              "      <td>UP</td>\n",
              "      <td>2517065.45</td>\n",
              "      <td>2469327.14</td>\n",
              "    </tr>\n",
              "  </tbody>\n",
              "</table>\n",
              "</div>"
            ],
            "text/plain": [
              "       SG_PARTIDO   VR_CREDITO    VR_DEBITO\n",
              "0          AVANTE  45890416.55  71212243.27\n",
              "1       CIDADANIA 199320871.79 197909166.14\n",
              "2              DC  13556803.00  13610612.44\n",
              "3             DEM 269177579.36 266098114.99\n",
              "4             MDB 700283723.83 698991796.09\n",
              "5            NOVO  98128808.45  97347678.04\n",
              "6   NÃO INFORMADO  99424596.43  97956287.20\n",
              "7           PATRI 214280615.37 213712649.76\n",
              "8             PCB   2759677.61   2699022.80\n",
              "9             PCO   1398606.24   1402347.21\n",
              "10          PCdoB 117802712.35 116564545.15\n",
              "11            PDT 311643632.44 310775172.72\n",
              "12            PHS     59406.58     64647.00\n",
              "13             PL 400505952.89 398956737.45\n",
              "14            PMB    689697.14    660410.85\n",
              "15            PMN  20229649.46  20205750.79\n",
              "16           PODE 417913096.77 417778043.60\n",
              "17             PP 611015251.68 606179850.76\n",
              "18           PROS 177105615.10 176743264.26\n",
              "19            PRP     60692.59     65633.35\n",
              "20           PRTB   4746515.25   5064763.66\n",
              "21            PSB 343467674.90 339347441.85\n",
              "22            PSC 135398068.34 134395187.07\n",
              "23            PSD 730179823.15 724081946.95\n",
              "24           PSDB 638744216.57 637625713.35\n",
              "25            PSL 815142918.61 810704823.04\n",
              "26           PSOL 127654216.26 125203202.45\n",
              "27           PSTU    716050.63    702835.12\n",
              "28             PT 551099258.25 548217739.52\n",
              "29            PTB 215206245.95 214765200.52\n",
              "30            PTC  30349070.29  30342716.39\n",
              "31             PV  90132676.05  88749660.47\n",
              "32           REDE  93536774.85  93253525.15\n",
              "33   REPUBLICANOS 378821229.21 377957533.74\n",
              "34            SDD 211859123.81 211492538.55\n",
              "35             UP   2517065.45   2469327.14"
            ]
          },
          "metadata": {},
          "execution_count": 136
        }
      ]
    },
    {
      "cell_type": "code",
      "metadata": {
        "colab": {
          "base_uri": "https://localhost:8080/"
        },
        "id": "-OuGaMYogqh9",
        "outputId": "e2b0fbf9-a8d0-44ff-b80b-853236745dff"
      },
      "source": [
        "df_saldos.columns"
      ],
      "execution_count": 140,
      "outputs": [
        {
          "output_type": "execute_result",
          "data": {
            "text/plain": [
              "Index(['SG_PARTIDO', 'VR_CREDITO', 'VR_DEBITO'], dtype='object')"
            ]
          },
          "metadata": {},
          "execution_count": 140
        }
      ]
    },
    {
      "cell_type": "code",
      "metadata": {
        "id": "u6U_e_NQ35_X"
      },
      "source": [
        "#Mudar faixar de valores do eixo Y \n",
        "plt.rcParams[\"axes.formatter.limits\"] = (0, 1000000)"
      ],
      "execution_count": 129,
      "outputs": []
    },
    {
      "cell_type": "code",
      "metadata": {
        "colab": {
          "base_uri": "https://localhost:8080/",
          "height": 394
        },
        "id": "NybA32BrghMh",
        "outputId": "670ad491-0293-46fb-bdc3-d1786567ac4b"
      },
      "source": [
        "df_saldos.sort_values(\"VR_CREDITO\", ascending=False).head(7).plot.bar(x =\"SG_PARTIDO\", y=[\"VR_CREDITO\", \"VR_DEBITO\"], title=\"Crédito x Débito por Partido (7 Maiores Créditos)\")\n",
        "plt.xlabel(\"Partido\")\n",
        "plt.ylabel(\"Valor\")\n",
        "plt.legend([\"Créditos\", \"Débitos\"]);"
      ],
      "execution_count": 143,
      "outputs": [
        {
          "output_type": "display_data",
          "data": {
            "image/png": "[encoded data removed]",
            "text/plain": [
              "<Figure size 576x396 with 1 Axes>"
            ]
          },
          "metadata": {}
        }
      ]
    },
    {
      "cell_type": "code",
      "metadata": {
        "colab": {
          "base_uri": "https://localhost:8080/",
          "height": 345
        },
        "id": "vhQGpXLngSKh",
        "outputId": "93344f69-fcd5-45a3-cbf8-929f782f9a9b"
      },
      "source": [
        "df_creditos.groupby(df_creditos[\"SG_PARTIDO\"])[\"VR_CREDITO\"].sum().sort_values(ascending=False).head(10).plot.pie(title=\"Partidos com Maiores Receitas\", autopct='%1.1f%%', fontsize=10, label=\"Créditos\")\n",
        "plt.legend([\"Créditos\"]);"
      ],
      "execution_count": 144,
      "outputs": [
        {
          "output_type": "display_data",
          "data": {
            "image/png": "[encoded data removed]",
            "text/plain": [
              "<Figure size 576x396 with 1 Axes>"
            ]
          },
          "metadata": {}
        }
      ]
    },
    {
      "cell_type": "code",
      "metadata": {
        "colab": {
          "base_uri": "https://localhost:8080/",
          "height": 345
        },
        "id": "FUiHpj1C52tg",
        "outputId": "9a6a7a11-61e9-4251-cef9-97b3429c106e"
      },
      "source": [
        "df_debitos.groupby(df_debitos[\"SG_PARTIDO\"])[\"VR_DEBITO\"].sum().sort_values(ascending=False).head(10).plot.pie(title=\"Partidos com Maiores Despesas\", autopct='%1.1f%%', fontsize=10, label=\"Débitos\")\n",
        "plt.legend([\"Débitos\"]);"
      ],
      "execution_count": 116,
      "outputs": [
        {
          "output_type": "display_data",
          "data": {
            "image/png": "[encoded data removed]",
            "text/plain": [
              "<Figure size 576x396 with 1 Axes>"
            ]
          },
          "metadata": {}
        }
      ]
    },
    {
      "cell_type": "code",
      "metadata": {
        "colab": {
          "base_uri": "https://localhost:8080/",
          "height": 378
        },
        "id": "U9K16ggczn8A",
        "outputId": "c021073d-17c2-473b-b853-f4a8379ff317"
      },
      "source": [
        "df_saldos_oper.groupby(df_saldos_oper[\"DT_LANCAMENTO\"])[\"VR_CREDITO\"].sum().plot(kind='line',x='DT_LANCAMENTO',y='VR_CREDITO')\n",
        "df_saldos_oper.groupby(df_saldos_oper[\"DT_LANCAMENTO\"])[\"VR_DEBITO\"].sum().plot(kind='line',x='DT_LANCAMENTO',y='VR_DEBITO', color='red')\n",
        "plt.title(\"Histórico de Transações de 2020 dos Partidos - Créditos x Débitos\")\n",
        "plt.xlabel(\"Mês\")\n",
        "plt.ylabel(\"Valor\")\n",
        "plt.legend([\"Créditos\", \"Débitos\"]);"
      ],
      "execution_count": 236,
      "outputs": [
        {
          "output_type": "display_data",
          "data": {
            "image/png": "[encoded data removed]",
            "text/plain": [
              "<Figure size 576x396 with 1 Axes>"
            ]
          },
          "metadata": {}
        }
      ]
    },
    {
      "cell_type": "code",
      "metadata": {
        "colab": {
          "base_uri": "https://localhost:8080/",
          "height": 591
        },
        "id": "JZ7C58nk__ol",
        "outputId": "f64eef23-40ec-4313-865e-5ab070d895a1"
      },
      "source": [
        "df.groupby(df[\"NM_OPERACAO\"])[\"VR_LANCAMENTO\"].sum().sort_values(ascending=False).head(10).plot.bar(title=\"10 Maiores Operações bancárias\")\n",
        "plt.xlabel(\"Operação\")\n",
        "plt.ylabel(\"Valor\")\n",
        "plt.legend([\"Débitos + Créditos\"]);"
      ],
      "execution_count": 237,
      "outputs": [
        {
          "output_type": "display_data",
          "data": {
            "image/png": "[encoded data removed]",
            "text/plain": [
              "<Figure size 576x396 with 1 Axes>"
            ]
          },
          "metadata": {}
        }
      ]
    },
    {
      "cell_type": "code",
      "metadata": {
        "colab": {
          "base_uri": "https://localhost:8080/",
          "height": 651
        },
        "id": "0guJo9piLJzd",
        "outputId": "fe96496e-6aa0-475c-9444-626db59eeff5"
      },
      "source": [
        "filtro_operacao = df[\"NM_OPERACAO\"] == \"TRANSFERÊNCIA ENTRE CONTAS\"\n",
        "filtro_lancamento = df[\"DSC_TP_LANCAMENTO\"] == \"DÉBITO\"\n",
        "df_transf = df.loc[filtro_operacao & filtro_lancamento]\n",
        "df_transf.groupby(\"NM_CONTRAPARTE\")[\"VR_LANCAMENTO\"].sum().sort_values(ascending=False).head(10).plot.bar(title=\"10 Maiores Recebedores de Transferências\", legend=\"\")\n",
        "plt.xlabel(\"Recebedores\")\n",
        "plt.ylabel(\"Valores\");"
      ],
      "execution_count": 239,
      "outputs": [
        {
          "output_type": "display_data",
          "data": {
            "image/png": "[encoded data removed]",
            "text/plain": [
              "<Figure size 576x396 with 1 Axes>"
            ]
          },
          "metadata": {}
        }
      ]
    },
    {
      "cell_type": "code",
      "metadata": {
        "colab": {
          "base_uri": "https://localhost:8080/",
          "height": 345
        },
        "id": "AE8nlT3GN__n",
        "outputId": "476b777b-5204-42b0-d714-4f0f3d98ee71"
      },
      "source": [
        "df.groupby(df[\"NM_BANCO\"])[\"VR_LANCAMENTO\"].count().sort_values(ascending=False).head(4).plot.pie(title=\"Bancos com maior quantidade de transações\", autopct='%1.1f%%', fontsize=10, label=\"Créditos + Débitos\");\n"
      ],
      "execution_count": 233,
      "outputs": [
        {
          "output_type": "display_data",
          "data": {
            "image/png": "[encoded data removed]",
            "text/plain": [
              "<Figure size 576x396 with 1 Axes>"
            ]
          },
          "metadata": {}
        }
      ]
    },
    {
      "cell_type": "code",
      "metadata": {
        "colab": {
          "base_uri": "https://localhost:8080/",
          "height": 582
        },
        "id": "BdmdKfAfQr4s",
        "outputId": "42fbd1fd-073d-4f18-da2d-60535ed9fcb2"
      },
      "source": [
        "df_creditos.groupby(df_creditos[\"NM_FONTE_RECURSO\"])[\"VR_CREDITO\"].sum().sort_values(ascending=False).head(5).plot.bar(title=\"Maiores Fontes de Recursos\")\n",
        "plt.xlabel(\"Fonte e Recurso\")\n",
        "plt.ylabel(\"Valor\")\n",
        "plt.legend([\"Créditos\"]);"
      ],
      "execution_count": 241,
      "outputs": [
        {
          "output_type": "display_data",
          "data": {
            "image/png": "[encoded data removed]",
            "text/plain": [
              "<Figure size 576x396 with 1 Axes>"
            ]
          },
          "metadata": {}
        }
      ]
    },
    {
      "cell_type": "code",
      "metadata": {
        "colab": {
          "base_uri": "https://localhost:8080/",
          "height": 362
        },
        "id": "mYHP-tzcSHyA",
        "outputId": "e6f3d653-7691-4374-8619-70ddc5af8335"
      },
      "source": [
        "#Gráfico de Dispersão\n",
        "plt.scatter(x=df_creditos[\"DT_LANCAMENTO\"], y = df_creditos[\"VR_CREDITO\"])\n",
        "plt.title(\"Créditos\");"
      ],
      "execution_count": 249,
      "outputs": [
        {
          "output_type": "display_data",
          "data": {
            "image/png": "[encoded data removed]",
            "text/plain": [
              "<Figure size 576x396 with 1 Axes>"
            ]
          },
          "metadata": {}
        }
      ]
    },
    {
      "cell_type": "code",
      "metadata": {
        "colab": {
          "base_uri": "https://localhost:8080/",
          "height": 362
        },
        "id": "17ZT77PSS1Ev",
        "outputId": "0aa6167c-c9cc-423d-be69-af28c4205556"
      },
      "source": [
        "#Gráfico de Dispersão\n",
        "plt.scatter(x=df_debitos[\"DT_LANCAMENTO\"], y = df_debitos[\"VR_DEBITO\"])\n",
        "plt.title(\"Débitos\");"
      ],
      "execution_count": 250,
      "outputs": [
        {
          "output_type": "display_data",
          "data": {
            "image/png": "[encoded data removed]",
            "text/plain": [
              "<Figure size 576x396 with 1 Axes>"
            ]
          },
          "metadata": {}
        }
      ]
    }
  ]
}